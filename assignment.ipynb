{
 "cells": [
  {
   "cell_type": "code",
   "execution_count": 42,
   "metadata": {},
   "outputs": [],
   "source": [
    "import numpy as np\n",
    "import pandas as pd"
   ]
  },
  {
   "cell_type": "code",
   "execution_count": 43,
   "metadata": {
    "scrolled": true
   },
   "outputs": [
    {
     "name": "stderr",
     "output_type": "stream",
     "text": [
      "/home/iiserb/anaconda3/lib/python3.6/site-packages/IPython/core/interactiveshell.py:2785: DtypeWarning:\n",
      "\n",
      "Columns (3,14) have mixed types. Specify dtype option on import or set low_memory=False.\n",
      "\n"
     ]
    },
    {
     "data": {
      "text/html": [
       "<div>\n",
       "<style scoped>\n",
       "    .dataframe tbody tr th:only-of-type {\n",
       "        vertical-align: middle;\n",
       "    }\n",
       "\n",
       "    .dataframe tbody tr th {\n",
       "        vertical-align: top;\n",
       "    }\n",
       "\n",
       "    .dataframe thead th {\n",
       "        text-align: right;\n",
       "    }\n",
       "</style>\n",
       "<table border=\"1\" class=\"dataframe\">\n",
       "  <thead>\n",
       "    <tr style=\"text-align: right;\">\n",
       "      <th></th>\n",
       "      <th>Unnamed: 0</th>\n",
       "      <th>symbol</th>\n",
       "      <th>S1</th>\n",
       "      <th>S2</th>\n",
       "      <th>S3</th>\n",
       "      <th>S4</th>\n",
       "      <th>S5</th>\n",
       "      <th>S6</th>\n",
       "      <th>S7</th>\n",
       "      <th>S8</th>\n",
       "      <th>...</th>\n",
       "      <th>S21</th>\n",
       "      <th>S22</th>\n",
       "      <th>S23</th>\n",
       "      <th>S24</th>\n",
       "      <th>S25</th>\n",
       "      <th>S26</th>\n",
       "      <th>S27</th>\n",
       "      <th>S28</th>\n",
       "      <th>S29</th>\n",
       "      <th>S30</th>\n",
       "    </tr>\n",
       "  </thead>\n",
       "  <tbody>\n",
       "    <tr>\n",
       "      <th>0</th>\n",
       "      <td>1</td>\n",
       "      <td>Zzz3</td>\n",
       "      <td>253.401685</td>\n",
       "      <td>402.8508776</td>\n",
       "      <td>230.957463</td>\n",
       "      <td>688.486264</td>\n",
       "      <td>358.067836</td>\n",
       "      <td>344.962350</td>\n",
       "      <td>441.155001</td>\n",
       "      <td>301.149694</td>\n",
       "      <td>...</td>\n",
       "      <td>507.882774</td>\n",
       "      <td>465.081486</td>\n",
       "      <td>415.478767</td>\n",
       "      <td>297.061149</td>\n",
       "      <td>488.848114</td>\n",
       "      <td>367.912141</td>\n",
       "      <td>307.199908</td>\n",
       "      <td>347.802509</td>\n",
       "      <td>411.227261</td>\n",
       "      <td>283.709694</td>\n",
       "    </tr>\n",
       "    <tr>\n",
       "      <th>1</th>\n",
       "      <td>2</td>\n",
       "      <td>Zzef1</td>\n",
       "      <td>21.152797</td>\n",
       "      <td>21.15279694</td>\n",
       "      <td>21.152797</td>\n",
       "      <td>21.152797</td>\n",
       "      <td>21.152797</td>\n",
       "      <td>21.152797</td>\n",
       "      <td>21.152797</td>\n",
       "      <td>21.152797</td>\n",
       "      <td>...</td>\n",
       "      <td>21.152797</td>\n",
       "      <td>21.152797</td>\n",
       "      <td>21.152797</td>\n",
       "      <td>21.152797</td>\n",
       "      <td>21.152797</td>\n",
       "      <td>21.152797</td>\n",
       "      <td>21.152797</td>\n",
       "      <td>21.152797</td>\n",
       "      <td>21.152797</td>\n",
       "      <td>21.152797</td>\n",
       "    </tr>\n",
       "    <tr>\n",
       "      <th>2</th>\n",
       "      <td>3</td>\n",
       "      <td>Zyx</td>\n",
       "      <td>40.578958</td>\n",
       "      <td>49.23516006</td>\n",
       "      <td>59.472005</td>\n",
       "      <td>46.212152</td>\n",
       "      <td>61.969671</td>\n",
       "      <td>55.732843</td>\n",
       "      <td>53.819870</td>\n",
       "      <td>54.315691</td>\n",
       "      <td>...</td>\n",
       "      <td>33.512262</td>\n",
       "      <td>36.751853</td>\n",
       "      <td>36.952457</td>\n",
       "      <td>35.718610</td>\n",
       "      <td>27.346198</td>\n",
       "      <td>32.647887</td>\n",
       "      <td>42.006833</td>\n",
       "      <td>32.324596</td>\n",
       "      <td>41.426033</td>\n",
       "      <td>32.754971</td>\n",
       "    </tr>\n",
       "    <tr>\n",
       "      <th>3</th>\n",
       "      <td>4</td>\n",
       "      <td>Zyg11b</td>\n",
       "      <td>26.373102</td>\n",
       "      <td>35.00190057</td>\n",
       "      <td>32.389728</td>\n",
       "      <td>34.932372</td>\n",
       "      <td>35.192365</td>\n",
       "      <td>33.858459</td>\n",
       "      <td>27.948378</td>\n",
       "      <td>21.152797</td>\n",
       "      <td>...</td>\n",
       "      <td>21.152797</td>\n",
       "      <td>21.152797</td>\n",
       "      <td>21.152797</td>\n",
       "      <td>21.152797</td>\n",
       "      <td>21.152797</td>\n",
       "      <td>21.152797</td>\n",
       "      <td>21.152797</td>\n",
       "      <td>21.152797</td>\n",
       "      <td>21.152797</td>\n",
       "      <td>21.152797</td>\n",
       "    </tr>\n",
       "    <tr>\n",
       "      <th>4</th>\n",
       "      <td>5</td>\n",
       "      <td>Zyg11a</td>\n",
       "      <td>21.152797</td>\n",
       "      <td>21.15279694</td>\n",
       "      <td>21.152797</td>\n",
       "      <td>21.152797</td>\n",
       "      <td>21.152797</td>\n",
       "      <td>21.152797</td>\n",
       "      <td>21.152797</td>\n",
       "      <td>21.152797</td>\n",
       "      <td>...</td>\n",
       "      <td>21.152797</td>\n",
       "      <td>21.152797</td>\n",
       "      <td>21.152797</td>\n",
       "      <td>21.152797</td>\n",
       "      <td>21.152797</td>\n",
       "      <td>21.152797</td>\n",
       "      <td>21.152797</td>\n",
       "      <td>21.152797</td>\n",
       "      <td>21.152797</td>\n",
       "      <td>21.152797</td>\n",
       "    </tr>\n",
       "  </tbody>\n",
       "</table>\n",
       "<p>5 rows × 32 columns</p>\n",
       "</div>"
      ],
      "text/plain": [
       "   Unnamed: 0  symbol          S1           S2          S3          S4  \\\n",
       "0           1    Zzz3  253.401685  402.8508776  230.957463  688.486264   \n",
       "1           2   Zzef1   21.152797  21.15279694   21.152797   21.152797   \n",
       "2           3     Zyx   40.578958  49.23516006   59.472005   46.212152   \n",
       "3           4  Zyg11b   26.373102  35.00190057   32.389728   34.932372   \n",
       "4           5  Zyg11a   21.152797  21.15279694   21.152797   21.152797   \n",
       "\n",
       "           S5          S6          S7          S8     ...             S21  \\\n",
       "0  358.067836  344.962350  441.155001  301.149694     ...      507.882774   \n",
       "1   21.152797   21.152797   21.152797   21.152797     ...       21.152797   \n",
       "2   61.969671   55.732843   53.819870   54.315691     ...       33.512262   \n",
       "3   35.192365   33.858459   27.948378   21.152797     ...       21.152797   \n",
       "4   21.152797   21.152797   21.152797   21.152797     ...       21.152797   \n",
       "\n",
       "          S22         S23         S24         S25         S26         S27  \\\n",
       "0  465.081486  415.478767  297.061149  488.848114  367.912141  307.199908   \n",
       "1   21.152797   21.152797   21.152797   21.152797   21.152797   21.152797   \n",
       "2   36.751853   36.952457   35.718610   27.346198   32.647887   42.006833   \n",
       "3   21.152797   21.152797   21.152797   21.152797   21.152797   21.152797   \n",
       "4   21.152797   21.152797   21.152797   21.152797   21.152797   21.152797   \n",
       "\n",
       "          S28         S29         S30  \n",
       "0  347.802509  411.227261  283.709694  \n",
       "1   21.152797   21.152797   21.152797  \n",
       "2   32.324596   41.426033   32.754971  \n",
       "3   21.152797   21.152797   21.152797  \n",
       "4   21.152797   21.152797   21.152797  \n",
       "\n",
       "[5 rows x 32 columns]"
      ]
     },
     "execution_count": 43,
     "metadata": {},
     "output_type": "execute_result"
    }
   ],
   "source": [
    "df = pd.read_csv('Assignment-gene_data.csv')\n",
    "df = pd.DataFrame(df)\n",
    "df.head()"
   ]
  },
  {
   "cell_type": "code",
   "execution_count": 44,
   "metadata": {},
   "outputs": [
    {
     "data": {
      "text/html": [
       "<div>\n",
       "<style scoped>\n",
       "    .dataframe tbody tr th:only-of-type {\n",
       "        vertical-align: middle;\n",
       "    }\n",
       "\n",
       "    .dataframe tbody tr th {\n",
       "        vertical-align: top;\n",
       "    }\n",
       "\n",
       "    .dataframe thead th {\n",
       "        text-align: right;\n",
       "    }\n",
       "</style>\n",
       "<table border=\"1\" class=\"dataframe\">\n",
       "  <thead>\n",
       "    <tr style=\"text-align: right;\">\n",
       "      <th></th>\n",
       "      <th>sIdx</th>\n",
       "      <th>Time</th>\n",
       "      <th>Unit</th>\n",
       "    </tr>\n",
       "  </thead>\n",
       "  <tbody>\n",
       "    <tr>\n",
       "      <th>0</th>\n",
       "      <td>S1</td>\n",
       "      <td>9</td>\n",
       "      <td>Hours</td>\n",
       "    </tr>\n",
       "    <tr>\n",
       "      <th>1</th>\n",
       "      <td>S2</td>\n",
       "      <td>9</td>\n",
       "      <td>Hours</td>\n",
       "    </tr>\n",
       "    <tr>\n",
       "      <th>2</th>\n",
       "      <td>S3</td>\n",
       "      <td>9</td>\n",
       "      <td>Hours</td>\n",
       "    </tr>\n",
       "    <tr>\n",
       "      <th>3</th>\n",
       "      <td>S4</td>\n",
       "      <td>7</td>\n",
       "      <td>Hours</td>\n",
       "    </tr>\n",
       "    <tr>\n",
       "      <th>4</th>\n",
       "      <td>S5</td>\n",
       "      <td>7</td>\n",
       "      <td>Hours</td>\n",
       "    </tr>\n",
       "  </tbody>\n",
       "</table>\n",
       "</div>"
      ],
      "text/plain": [
       "  sIdx  Time   Unit\n",
       "0   S1     9  Hours\n",
       "1   S2     9  Hours\n",
       "2   S3     9  Hours\n",
       "3   S4     7  Hours\n",
       "4   S5     7  Hours"
      ]
     },
     "execution_count": 44,
     "metadata": {},
     "output_type": "execute_result"
    }
   ],
   "source": [
    "df2 = pd.read_csv('Assignment-Meta_data sheet.csv')\n",
    "df2 = pd.DataFrame(df2)\n",
    "df2.head()"
   ]
  },
  {
   "cell_type": "code",
   "execution_count": 45,
   "metadata": {},
   "outputs": [],
   "source": [
    "#X = df.iloc[0:,2:].values\n",
    "y = df.iloc[:,1].values"
   ]
  },
  {
   "cell_type": "code",
   "execution_count": 46,
   "metadata": {},
   "outputs": [],
   "source": [
    "df1 = df.where(df.applymap(lambda x: str(x).isalnum() is False))\n",
    "df1 = df1.fillna(0.0)\n",
    "X = df1.iloc[0:,2:].values\n",
    "X = X.astype(float)"
   ]
  },
  {
   "cell_type": "code",
   "execution_count": 47,
   "metadata": {},
   "outputs": [],
   "source": [
    "from sklearn.preprocessing import StandardScaler\n",
    "X_std = StandardScaler().fit_transform(X)"
   ]
  },
  {
   "cell_type": "markdown",
   "metadata": {},
   "source": [
    "# 1 - Eigendecomposition - Computing Eigenvectors and Eigenvalues"
   ]
  },
  {
   "cell_type": "markdown",
   "metadata": {},
   "source": [
    "## Covariance Matrix"
   ]
  },
  {
   "cell_type": "code",
   "execution_count": 48,
   "metadata": {},
   "outputs": [],
   "source": [
    "import numpy as np\n",
    "mean_vec = np.mean(X_std, axis=0)\n",
    "cov_mat = (X_std - mean_vec).T.dot((X_std - mean_vec)) / (X_std.shape[0]-1)\n",
    "#print('Covariance matrix \\n%s' %cov_mat)"
   ]
  },
  {
   "cell_type": "code",
   "execution_count": 49,
   "metadata": {},
   "outputs": [],
   "source": [
    "#print('NumPy covariance matrix: \\n%s' %np.cov(X_std.T))\n"
   ]
  },
  {
   "cell_type": "code",
   "execution_count": 50,
   "metadata": {},
   "outputs": [
    {
     "name": "stdout",
     "output_type": "stream",
     "text": [
      "\n",
      "Eigenvalues \n",
      "[2.42964461e+01 2.23770201e+00 1.39246721e+00 9.95406663e-01\n",
      " 3.15734421e-01 1.72182656e-01 1.20125032e-01 8.52449625e-02\n",
      " 7.43657524e-02 5.18721014e-02 4.18005262e-02 3.43968982e-02\n",
      " 2.85211048e-02 2.26709793e-02 1.79366743e-02 1.68621657e-02\n",
      " 1.41674219e-02 1.16280791e-02 1.09234764e-02 9.47992499e-03\n",
      " 2.20558968e-03 8.13304970e-03 7.19112488e-03 6.16404718e-03\n",
      " 5.82498965e-03 5.60878604e-03 5.00486859e-03 3.31168887e-03\n",
      " 3.77693598e-03 4.18340516e-03]\n"
     ]
    }
   ],
   "source": [
    "cov_mat = np.cov(X_std.T)\n",
    "eig_vals, eig_vecs = np.linalg.eig(cov_mat)\n",
    "\n",
    "#print('Eigenvectors \\n%s' %eig_vecs)\n",
    "print('\\nEigenvalues \\n%s' %eig_vals)"
   ]
  },
  {
   "cell_type": "markdown",
   "metadata": {},
   "source": [
    "## Correlation Matrix"
   ]
  },
  {
   "cell_type": "code",
   "execution_count": 51,
   "metadata": {},
   "outputs": [
    {
     "name": "stdout",
     "output_type": "stream",
     "text": [
      "\n",
      "Eigenvalues \n",
      "[2.42953620e+01 2.23760216e+00 1.39240508e+00 9.95362247e-01\n",
      " 3.15720332e-01 1.72174973e-01 1.20119672e-01 8.52411587e-02\n",
      " 7.43624341e-02 5.18697868e-02 4.17986610e-02 3.43953633e-02\n",
      " 2.85198322e-02 2.26699677e-02 1.79358739e-02 1.68614133e-02\n",
      " 1.41667898e-02 1.16275602e-02 1.09229890e-02 9.47950198e-03\n",
      " 2.20549126e-03 8.13268679e-03 7.19080400e-03 3.31154110e-03\n",
      " 6.16377214e-03 5.82472974e-03 5.60853577e-03 5.00464526e-03\n",
      " 3.77676745e-03 4.18321849e-03]\n"
     ]
    }
   ],
   "source": [
    "cor_mat1 = np.corrcoef(X_std.T)\n",
    "\n",
    "eig_vals, eig_vecs = np.linalg.eig(cor_mat1)\n",
    "\n",
    "#print('Eigenvectors \\n%s' %eig_vecs)\n",
    "print('\\nEigenvalues \\n%s' %eig_vals)"
   ]
  },
  {
   "cell_type": "markdown",
   "metadata": {},
   "source": [
    "# 2 - Selecting Principal Components"
   ]
  },
  {
   "cell_type": "markdown",
   "metadata": {},
   "source": [
    "Normalization of data"
   ]
  },
  {
   "cell_type": "code",
   "execution_count": 53,
   "metadata": {},
   "outputs": [],
   "source": [
    "for ev in eig_vecs:\n",
    "    np.testing.assert_array_almost_equal(1.0, np.linalg.norm(ev))\n"
   ]
  },
  {
   "cell_type": "code",
   "execution_count": 54,
   "metadata": {},
   "outputs": [
    {
     "name": "stdout",
     "output_type": "stream",
     "text": [
      "Eigenvalues in descending order:\n",
      "24.295362015095662\n",
      "2.2376021601312543\n",
      "1.3924050757525022\n",
      "0.9953622469557909\n",
      "0.31572033249584947\n",
      "0.17217497323310668\n",
      "0.12011967225779117\n",
      "0.08524115874677898\n",
      "0.074362434118428\n",
      "0.051869786822721684\n",
      "0.041798660993265284\n",
      "0.03439536333077761\n",
      "0.02851983218507281\n",
      "0.022669967683088363\n",
      "0.017935873935823007\n",
      "0.01686141331658112\n",
      "0.014166789773240415\n",
      "0.011627560214170822\n",
      "0.010922988971147634\n",
      "0.009479501981811711\n",
      "0.008132686792803729\n",
      "0.007190804002369863\n",
      "0.006163772138175464\n",
      "0.005824729737954111\n",
      "0.00560853576878121\n",
      "0.005004645263413443\n",
      "0.004183218488559366\n",
      "0.003776767453837126\n",
      "0.003311541095890872\n",
      "0.002205491263358622\n"
     ]
    }
   ],
   "source": [
    "# Make a list of (eigenvalue, eigenvector) tuples\n",
    "eig_pairs = [(np.abs(eig_vals[i]), eig_vecs[:,i]) for i in range(len(eig_vals))]\n",
    "\n",
    "# Sort the (eigenvalue, eigenvector) tuples from high to low\n",
    "eig_pairs.sort()\n",
    "eig_pairs.reverse()\n",
    "\n",
    "# Visually confirm that the list is correctly sorted by decreasing eigenvalues\n",
    "print('Eigenvalues in descending order:')\n",
    "for i in eig_pairs:\n",
    "    print(i[0])"
   ]
  },
  {
   "cell_type": "code",
   "execution_count": 55,
   "metadata": {},
   "outputs": [],
   "source": [
    "import plotly as py\n",
    "from plotly.graph_objs import *\n",
    "import plotly.tools as tls\n"
   ]
  },
  {
   "cell_type": "code",
   "execution_count": 56,
   "metadata": {},
   "outputs": [
    {
     "name": "stderr",
     "output_type": "stream",
     "text": [
      "/home/iiserb/anaconda3/lib/python3.6/site-packages/plotly/graph_objs/_deprecations.py:39: DeprecationWarning:\n",
      "\n",
      "plotly.graph_objs.Data is deprecated.\n",
      "Please replace it with a list or tuple of instances of the following types\n",
      "  - plotly.graph_objs.Scatter\n",
      "  - plotly.graph_objs.Bar\n",
      "  - plotly.graph_objs.Area\n",
      "  - plotly.graph_objs.Histogram\n",
      "  - etc.\n",
      "\n",
      "\n",
      "/home/iiserb/anaconda3/lib/python3.6/site-packages/plotly/graph_objs/_deprecations.py:558: DeprecationWarning:\n",
      "\n",
      "plotly.graph_objs.YAxis is deprecated.\n",
      "Please replace it with one of the following more specific types\n",
      "  - plotly.graph_objs.layout.YAxis\n",
      "  - plotly.graph_objs.layout.scene.YAxis\n",
      "\n",
      "\n",
      "/home/iiserb/anaconda3/lib/python3.6/site-packages/plotly/offline/offline.py:608: UserWarning:\n",
      "\n",
      "Your filename `PCA_analysis` didn't end with .html. Adding .html to the end of your file.\n",
      "\n"
     ]
    },
    {
     "data": {
      "text/plain": [
       "'file:///home/iiserb/Music/PCA_analysis.html'"
      ]
     },
     "execution_count": 56,
     "metadata": {},
     "output_type": "execute_result"
    }
   ],
   "source": [
    "tot = sum(eig_vals)\n",
    "var_exp = [(i / tot)*100 for i in sorted(eig_vals, reverse=True)]\n",
    "cum_var_exp = np.cumsum(var_exp)\n",
    "\n",
    "trace1 = Bar(\n",
    "        x=['PC %s' %i for i in range(1,30)],\n",
    "        y=var_exp,\n",
    "        showlegend=False)\n",
    "\n",
    "trace2 = Scatter(\n",
    "        x=['PC %s' %i for i in range(1,30)], \n",
    "        y=cum_var_exp,\n",
    "        name='cumulative explained variance')\n",
    "\n",
    "data = Data([trace1, trace2])\n",
    "\n",
    "layout=Layout(\n",
    "        yaxis=YAxis(title='Explained variance in percent'),\n",
    "        title='Explained variance by different principal components')\n",
    "\n",
    "fig = Figure(data=data, layout=layout)\n",
    "#py.iplot(fig)\n",
    "py.offline.plot( fig, filename='PCA_analysis' )"
   ]
  },
  {
   "cell_type": "code",
   "execution_count": 57,
   "metadata": {},
   "outputs": [
    {
     "name": "stdout",
     "output_type": "stream",
     "text": [
      "Matrix W:\n",
      " [[ 1.58487523e-01 -3.65617206e-01  1.31431077e-01 -1.01566628e-01\n",
      "  -3.16845125e-01  1.85136743e-01]\n",
      " [ 1.68892201e-01 -3.20783573e-01  3.18983758e-02 -1.80313316e-01\n",
      "  -2.36185106e-01  1.20040503e-01]\n",
      " [ 1.72105681e-01 -2.87598341e-01  1.64427065e-02 -2.32105879e-01\n",
      "  -1.86849676e-01  2.47887551e-01]\n",
      " [ 1.71062669e-01 -3.29003301e-01  2.60643472e-04 -1.64068656e-02\n",
      "  -1.89676776e-01 -2.54997915e-01]\n",
      " [ 1.72522610e-01 -1.77579964e-01 -2.95276587e-01 -2.02933902e-01\n",
      "   2.33858028e-01  3.73418213e-02]\n",
      " [ 1.78705943e-01 -2.04408284e-01 -2.12087918e-01 -1.39020116e-01\n",
      "   2.68180174e-01 -1.53893163e-01]\n",
      " [ 1.81501032e-01 -1.43659503e-01 -2.89674150e-01  3.88612443e-02\n",
      "   1.92984706e-01 -1.00074152e-03]\n",
      " [ 1.81478299e-01 -5.92876202e-02 -3.22161764e-01 -2.36996364e-04\n",
      "   2.89103158e-01 -1.21815972e-01]\n",
      " [ 1.86338661e-01 -1.33560391e-01 -2.61481261e-01  6.68105755e-02\n",
      "   1.20249343e-01 -1.20617024e-01]\n",
      " [ 1.84770910e-01  5.27684868e-02 -2.02213053e-01  2.98765568e-01\n",
      "  -7.11897445e-02  1.75318846e-01]\n",
      " [ 1.84404895e-01  4.89054456e-02 -1.73469698e-01  3.14759425e-01\n",
      "  -1.23699721e-01  8.71252004e-03]\n",
      " [ 1.79819774e-01 -7.93072462e-02 -8.79002298e-02  3.89711495e-01\n",
      "  -2.72956333e-01 -8.91079722e-02]\n",
      " [ 1.89761164e-01  1.70757988e-01 -6.30516851e-02  1.77277097e-01\n",
      "  -1.01603680e-01  2.25211739e-02]\n",
      " [ 1.79471940e-01  2.18009736e-01 -1.63052770e-01  1.33907605e-01\n",
      "  -5.93108709e-02  3.20727375e-01]\n",
      " [ 1.84686871e-01  1.71309915e-01 -4.41904960e-02  2.57649439e-01\n",
      "  -1.45656268e-01  1.50672786e-01]\n",
      " [ 1.82449075e-01  2.57672553e-01 -1.77926823e-02 -1.39781441e-01\n",
      "  -4.87776403e-02 -1.50391325e-01]\n",
      " [ 1.94799401e-01  1.45718743e-01  2.03143413e-02 -8.33796240e-02\n",
      "  -1.45431735e-01 -2.01173021e-01]\n",
      " [ 1.91230761e-01  1.39098946e-01  6.41017727e-02 -2.74924590e-02\n",
      "  -1.23838604e-01 -3.65316897e-01]\n",
      " [ 1.91898409e-01  1.30990980e-01  6.12436935e-02 -1.73966233e-01\n",
      "  -1.82842486e-01 -1.82782121e-01]\n",
      " [ 1.89624619e-01  1.90571084e-01  3.73193348e-02 -1.66224453e-01\n",
      "  -1.13346886e-02 -1.28721119e-01]\n",
      " [ 1.91596493e-01  1.28049816e-01  4.05090003e-02 -2.08932965e-01\n",
      "  -1.34446925e-01 -6.24351619e-02]\n",
      " [ 1.86866068e-01  1.20582157e-01  3.47768337e-02 -1.70621130e-01\n",
      "   7.62984921e-02  5.67839263e-01]\n",
      " [ 1.95328577e-01  1.59528352e-02  1.74317188e-01 -1.86014292e-02\n",
      "  -4.35792769e-02 -6.90475323e-02]\n",
      " [ 1.91817728e-01  1.40134136e-01  1.36291873e-01 -7.64068336e-02\n",
      "   1.75684406e-01 -1.93113461e-03]\n",
      " [ 1.88981437e-01  1.65378910e-01  7.95697568e-02 -1.90858623e-01\n",
      "   1.59976477e-01  7.91737389e-02]\n",
      " [ 1.90958579e-01  1.56536083e-01  1.27917260e-01 -9.73838944e-02\n",
      "   1.82658945e-01  6.15101765e-02]\n",
      " [ 1.95506062e-01  6.70169435e-02  1.57156201e-01 -9.62258711e-02\n",
      "  -3.86334151e-03  4.56580108e-02]\n",
      " [ 1.69008336e-01 -1.78721319e-01  3.52569192e-01  2.10655926e-01\n",
      "   1.01965812e-01 -1.15479041e-01]\n",
      " [ 1.63318744e-01 -1.75291713e-01  3.62488977e-01  2.35179336e-01\n",
      "   3.05455655e-01  4.90132538e-02]\n",
      " [ 1.71947159e-01 -9.67556494e-02  3.42175516e-01  2.48293667e-01\n",
      "   2.98916873e-01  6.30726099e-03]]\n"
     ]
    }
   ],
   "source": [
    "matrix_w = np.hstack((eig_pairs[0][1].reshape(30,1), \n",
    "                      eig_pairs[1][1].reshape(30,1),\n",
    "                     eig_pairs[2][1].reshape(30,1),\n",
    "                     eig_pairs[3][1].reshape(30,1),\n",
    "                     eig_pairs[4][1].reshape(30,1),\n",
    "                     eig_pairs[5][1].reshape(30,1)))\n",
    "\n",
    "print('Matrix W:\\n', matrix_w)"
   ]
  },
  {
   "cell_type": "code",
   "execution_count": null,
   "metadata": {},
   "outputs": [],
   "source": []
  }
 ],
 "metadata": {
  "kernelspec": {
   "display_name": "Python 3",
   "language": "python",
   "name": "python3"
  },
  "language_info": {
   "codemirror_mode": {
    "name": "ipython",
    "version": 3
   },
   "file_extension": ".py",
   "mimetype": "text/x-python",
   "name": "python",
   "nbconvert_exporter": "python",
   "pygments_lexer": "ipython3",
   "version": "3.6.5"
  }
 },
 "nbformat": 4,
 "nbformat_minor": 2
}
